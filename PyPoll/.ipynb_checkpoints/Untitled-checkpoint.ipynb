{
 "cells": [
  {
   "cell_type": "code",
   "execution_count": 116,
   "metadata": {
    "collapsed": true
   },
   "outputs": [],
   "source": [
    "import pandas as pd\n",
    "import os"
   ]
  },
  {
   "cell_type": "code",
   "execution_count": 117,
   "metadata": {
    "collapsed": true
   },
   "outputs": [],
   "source": [
    "#importing data / dataframes\n",
    "data_file1 = os.path.join(\"election_data_1.csv\")\n",
    "data1 = pd.read_csv(data_file1)\n",
    "df1 = pd.DataFrame(data1)"
   ]
  },
  {
   "cell_type": "code",
   "execution_count": 118,
   "metadata": {
    "collapsed": true
   },
   "outputs": [],
   "source": [
    "data_file2 = os.path.join(\"election_data_2.csv\")\n",
    "data2 = pd.read_csv(data_file2)\n",
    "df2 = pd.DataFrame(data2)"
   ]
  },
  {
   "cell_type": "code",
   "execution_count": 119,
   "metadata": {},
   "outputs": [],
   "source": [
    "#merging and cleaning data\n",
    "df = df1.append(df2)"
   ]
  },
  {
   "cell_type": "code",
   "execution_count": 143,
   "metadata": {},
   "outputs": [],
   "source": [
    "#calculating variables\n",
    "count = str((len(set(df['Voter ID']))))"
   ]
  },
  {
   "cell_type": "code",
   "execution_count": 144,
   "metadata": {},
   "outputs": [],
   "source": [
    "#create revised dataframe (auto sorts desc)\n",
    "df_list = df['Candidate'].value_counts()\n",
    "df_list = df_list.reset_index()"
   ]
  },
  {
   "cell_type": "code",
   "execution_count": 148,
   "metadata": {},
   "outputs": [
    {
     "name": "stdout",
     "output_type": "stream",
     "text": [
      "Election Results\n",
      "-----------------------\n",
      "Total Votes: 195155\n",
      "-----------------------\n",
      "Khan: 34% (65994)\n",
      "Vestal: 22% (43180)\n",
      "Torres: 21% (40010)\n",
      "Correy: 11% (20911)\n",
      "Li: 7% (14605)\n",
      "Seth: 2% (4596)\n",
      "O'Tooley: 2% (3137)\n",
      "Cordin: 1% (2720)\n",
      "-----------------------\n",
      "Winner: Khan\n",
      "-----------------------\n"
     ]
    }
   ],
   "source": [
    "#Display\n",
    "print(\"Election Results\")\n",
    "print(\"-----------------------\")\n",
    "print(\"Total Votes: \" + count)\n",
    "print(\"-----------------------\")\n",
    "#loop through each row in revised dataframe, display name and calculate percentage and total vote count\n",
    "for index, row in df_list.iterrows():\n",
    "    print(row['index'] + \": \" + \"{0:.0f}%\".format(round(row['Candidate']/int(count),2)*100) + \" (\" + str(row['Candidate']) + \")\")\n",
    "print(\"-----------------------\")\n",
    "print(\"Winner: \" + df_list.iloc[0,0]) # displays first in df_list which is automatically highest value\n",
    "print(\"-----------------------\")"
   ]
  },
  {
   "cell_type": "code",
   "execution_count": null,
   "metadata": {},
   "outputs": [],
   "source": []
  },
  {
   "cell_type": "code",
   "execution_count": null,
   "metadata": {
    "collapsed": true
   },
   "outputs": [],
   "source": []
  }
 ],
 "metadata": {
  "kernelspec": {
   "display_name": "Python 3",
   "language": "python",
   "name": "python3"
  },
  "language_info": {
   "codemirror_mode": {
    "name": "ipython",
    "version": 3
   },
   "file_extension": ".py",
   "mimetype": "text/x-python",
   "name": "python",
   "nbconvert_exporter": "python",
   "pygments_lexer": "ipython3",
   "version": "3.6.3"
  }
 },
 "nbformat": 4,
 "nbformat_minor": 2
}
